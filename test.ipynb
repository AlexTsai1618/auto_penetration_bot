{
 "metadata": {
  "language_info": {
   "codemirror_mode": {
    "name": "ipython",
    "version": 3
   },
   "file_extension": ".py",
   "mimetype": "text/x-python",
   "name": "python",
   "nbconvert_exporter": "python",
   "pygments_lexer": "ipython3",
   "version": "3.8.2-final"
  },
  "orig_nbformat": 2,
  "kernelspec": {
   "name": "python_defaultSpec_1599038170736",
   "display_name": "Python 3.8.2 64-bit"
  }
 },
 "nbformat": 4,
 "nbformat_minor": 2,
 "cells": [
  {
   "cell_type": "code",
   "execution_count": 10,
   "metadata": {
    "tags": []
   },
   "outputs": [
    {
     "output_type": "stream",
     "name": "stdout",
     "text": "^C\n\u001b[31mERROR: Operation cancelled by user\u001b[0m\n"
    },
    {
     "output_type": "error",
     "ename": "ModuleNotFoundError",
     "evalue": "No module named 'nmap'",
     "traceback": [
      "\u001b[0;31m---------------------------------------------------------------------------\u001b[0m",
      "\u001b[0;31mModuleNotFoundError\u001b[0m                       Traceback (most recent call last)",
      "\u001b[0;32m<ipython-input-10-4ec9a84e6674>\u001b[0m in \u001b[0;36m<module>\u001b[0;34m\u001b[0m\n\u001b[1;32m      1\u001b[0m \u001b[0mget_ipython\u001b[0m\u001b[0;34m(\u001b[0m\u001b[0;34m)\u001b[0m\u001b[0;34m.\u001b[0m\u001b[0msystem\u001b[0m\u001b[0;34m(\u001b[0m\u001b[0;34m'pip3 install python-nmap'\u001b[0m\u001b[0;34m)\u001b[0m\u001b[0;34m\u001b[0m\u001b[0;34m\u001b[0m\u001b[0m\n\u001b[0;32m----> 2\u001b[0;31m \u001b[0;32mimport\u001b[0m \u001b[0mnmap\u001b[0m\u001b[0;34m\u001b[0m\u001b[0;34m\u001b[0m\u001b[0m\n\u001b[0m",
      "\u001b[0;31mModuleNotFoundError\u001b[0m: No module named 'nmap'"
     ]
    }
   ],
   "source": [
    "!pip3 install python-nmap\n",
    "import nmap"
   ]
  },
  {
   "cell_type": "code",
   "execution_count": 25,
   "metadata": {},
   "outputs": [],
   "source": [
    "import nmap\n",
    "nm=nmap.PortScanner()\n",
    "data = {\"os_data\":\"\",\"shares_data\":\"\"}\n",
    "data['os_data'] = nm.scan(\"192.168.1.106\", '445',arguments='--script=smb-os-discovery.nse')\n",
    "# data['shares_data'] = nm.scan(\"192.168.1.106\",'445',arguments='scripts/smb-enum-shares.nse')"
   ]
  },
  {
   "cell_type": "code",
   "execution_count": 26,
   "metadata": {},
   "outputs": [
    {
     "output_type": "execute_result",
     "data": {
      "text/plain": "{'os_data': {'nmap': {'command_line': 'nmap -oX - -p 445 --script=smb-os-discovery.nse 192.168.1.106',\n   'scaninfo': {'tcp': {'method': 'connect', 'services': '445'}},\n   'scanstats': {'timestr': 'Wed Sep  2 05:34:27 2020',\n    'elapsed': '11.56',\n    'uphosts': '1',\n    'downhosts': '0',\n    'totalhosts': '1'}},\n  'scan': {'192.168.1.106': {'hostnames': [{'name': '', 'type': ''}],\n    'addresses': {'ipv4': '192.168.1.106'},\n    'vendor': {},\n    'status': {'state': 'up', 'reason': 'syn-ack'},\n    'tcp': {445: {'state': 'open',\n      'reason': 'syn-ack',\n      'name': 'microsoft-ds',\n      'product': 'Windows 10 Pro 18363 microsoft-ds',\n      'version': '',\n      'extrainfo': '',\n      'conf': '10',\n      'cpe': ''}},\n    'hostscript': [{'id': 'smb-os-discovery',\n      'output': '\\n  OS: Windows 10 Pro 18363 (Windows 10 Pro 6.3)\\n  OS CPE: cpe:/o:microsoft:windows_10::-\\n  Computer name: Alex-Desktop\\n  NetBIOS computer name: ALEX-DESKTOP\\\\x00\\n  Workgroup: WORKGROUP\\\\x00\\n  System time: 2020-09-02T17:34:27+08:00\\n'}]}}},\n 'shares_data': ''}"
     },
     "metadata": {},
     "execution_count": 26
    }
   ],
   "source": [
    "data"
   ]
  },
  {
   "cell_type": "code",
   "execution_count": null,
   "metadata": {},
   "outputs": [],
   "source": []
  }
 ]
}