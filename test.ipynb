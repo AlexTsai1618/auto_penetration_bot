{
 "metadata": {
  "language_info": {
   "codemirror_mode": {
    "name": "ipython",
    "version": 3
   },
   "file_extension": ".py",
   "mimetype": "text/x-python",
   "name": "python",
   "nbconvert_exporter": "python",
   "pygments_lexer": "ipython3",
   "version": "3.8.2-final"
  },
  "orig_nbformat": 2,
  "kernelspec": {
   "name": "python_defaultSpec_1599101488325",
   "display_name": "Python 3.8.2 64-bit"
  }
 },
 "nbformat": 4,
 "nbformat_minor": 2,
 "cells": [
  {
   "cell_type": "code",
   "execution_count": 4,
   "metadata": {
    "tags": []
   },
   "outputs": [
    {
     "output_type": "stream",
     "name": "stdout",
     "text": "Requirement already satisfied: python-nmap in /usr/local/lib/python3.8/dist-packages (0.6.1)\n"
    }
   ],
   "source": [
    "!pip3 install python-nmap\n",
    "import nmap"
   ]
  },
  {
   "cell_type": "code",
   "execution_count": 5,
   "metadata": {},
   "outputs": [
    {
     "output_type": "error",
     "ename": "AttributeError",
     "evalue": "module 'nmap' has no attribute 'PortScanner'",
     "traceback": [
      "\u001b[0;31m---------------------------------------------------------------------------\u001b[0m",
      "\u001b[0;31mAttributeError\u001b[0m                            Traceback (most recent call last)",
      "\u001b[0;32m<ipython-input-5-56d6300f15c6>\u001b[0m in \u001b[0;36m<module>\u001b[0;34m\u001b[0m\n\u001b[1;32m      1\u001b[0m \u001b[0;32mimport\u001b[0m \u001b[0mnmap\u001b[0m\u001b[0;34m\u001b[0m\u001b[0;34m\u001b[0m\u001b[0m\n\u001b[0;32m----> 2\u001b[0;31m \u001b[0mnm\u001b[0m\u001b[0;34m=\u001b[0m\u001b[0mnmap\u001b[0m\u001b[0;34m.\u001b[0m\u001b[0mPortScanner\u001b[0m\u001b[0;34m(\u001b[0m\u001b[0;34m)\u001b[0m\u001b[0;34m\u001b[0m\u001b[0;34m\u001b[0m\u001b[0m\n\u001b[0m\u001b[1;32m      3\u001b[0m \u001b[0mdata\u001b[0m \u001b[0;34m=\u001b[0m \u001b[0;34m{\u001b[0m\u001b[0;34m\"os_data\"\u001b[0m\u001b[0;34m:\u001b[0m\u001b[0;34m\"\"\u001b[0m\u001b[0;34m,\u001b[0m\u001b[0;34m\"shares_data\"\u001b[0m\u001b[0;34m:\u001b[0m\u001b[0;34m\"\"\u001b[0m\u001b[0;34m}\u001b[0m\u001b[0;34m\u001b[0m\u001b[0;34m\u001b[0m\u001b[0m\n\u001b[1;32m      4\u001b[0m \u001b[0mdata\u001b[0m\u001b[0;34m[\u001b[0m\u001b[0;34m'os_data'\u001b[0m\u001b[0;34m]\u001b[0m \u001b[0;34m=\u001b[0m \u001b[0mnm\u001b[0m\u001b[0;34m.\u001b[0m\u001b[0mscan\u001b[0m\u001b[0;34m(\u001b[0m\u001b[0;34m\"192.168.1.106\"\u001b[0m\u001b[0;34m,\u001b[0m \u001b[0;34m'445'\u001b[0m\u001b[0;34m,\u001b[0m\u001b[0marguments\u001b[0m\u001b[0;34m=\u001b[0m\u001b[0;34m'--script=smb-os-discovery.nse'\u001b[0m\u001b[0;34m)\u001b[0m\u001b[0;34m\u001b[0m\u001b[0;34m\u001b[0m\u001b[0m\n\u001b[1;32m      5\u001b[0m \u001b[0;31m# data['shares_data'] = nm.scan(\"192.168.1.106\",'445',arguments='scripts/smb-enum-shares.nse')\u001b[0m\u001b[0;34m\u001b[0m\u001b[0;34m\u001b[0m\u001b[0;34m\u001b[0m\u001b[0m\n",
      "\u001b[0;31mAttributeError\u001b[0m: module 'nmap' has no attribute 'PortScanner'"
     ]
    }
   ],
   "source": [
    "import nmap\n",
    "nm=nmap.PortScanner()\n",
    "data = {\"os_data\":\"\",\"shares_data\":\"\"}\n",
    "data['os_data'] = nm.scan(\"192.168.1.106\", '445',arguments='--script=smb-os-discovery.nse')\n",
    "# data['shares_data'] = nm.scan(\"192.168.1.106\",'445',arguments='scripts/smb-enum-shares.nse')"
   ]
  },
  {
   "cell_type": "code",
   "execution_count": 6,
   "metadata": {},
   "outputs": [
    {
     "output_type": "error",
     "ename": "AttributeError",
     "evalue": "module 'nmap' has no attribute 'PortScanner'",
     "traceback": [
      "\u001b[0;31m---------------------------------------------------------------------------\u001b[0m",
      "\u001b[0;31mAttributeError\u001b[0m                            Traceback (most recent call last)",
      "\u001b[0;32m<ipython-input-6-df55cfa32e4e>\u001b[0m in \u001b[0;36m<module>\u001b[0;34m\u001b[0m\n\u001b[1;32m      1\u001b[0m \u001b[0;32mimport\u001b[0m \u001b[0mnmap\u001b[0m\u001b[0;34m\u001b[0m\u001b[0;34m\u001b[0m\u001b[0m\n\u001b[0;32m----> 2\u001b[0;31m \u001b[0mnm\u001b[0m\u001b[0;34m=\u001b[0m\u001b[0mnmap\u001b[0m\u001b[0;34m.\u001b[0m\u001b[0mPortScanner\u001b[0m\u001b[0;34m(\u001b[0m\u001b[0;34m)\u001b[0m\u001b[0;34m\u001b[0m\u001b[0;34m\u001b[0m\u001b[0m\n\u001b[0m",
      "\u001b[0;31mAttributeError\u001b[0m: module 'nmap' has no attribute 'PortScanner'"
     ]
    }
   ],
   "source": [
    "import nmap\n",
    "nm=nmap.PortScanner()"
   ]
  },
  {
   "cell_type": "code",
   "execution_count": 8,
   "metadata": {},
   "outputs": [
    {
     "output_type": "error",
     "ename": "NameError",
     "evalue": "name 'nm' is not defined",
     "traceback": [
      "\u001b[0;31m---------------------------------------------------------------------------\u001b[0m",
      "\u001b[0;31mNameError\u001b[0m                                 Traceback (most recent call last)",
      "\u001b[0;32m<ipython-input-8-ab27e4c1ec30>\u001b[0m in \u001b[0;36m<module>\u001b[0;34m\u001b[0m\n\u001b[0;32m----> 1\u001b[0;31m \u001b[0mdata\u001b[0m \u001b[0;34m=\u001b[0m \u001b[0mnm\u001b[0m\u001b[0;34m.\u001b[0m\u001b[0mscan\u001b[0m\u001b[0;34m(\u001b[0m\u001b[0;34m\"192.168.88.208\"\u001b[0m\u001b[0;34m,\u001b[0m \u001b[0;34m'445'\u001b[0m\u001b[0;34m,\u001b[0m\u001b[0marguments\u001b[0m\u001b[0;34m=\u001b[0m\u001b[0;34m'--script=smb-enum-shares.nse'\u001b[0m\u001b[0;34m)\u001b[0m\u001b[0;34m[\u001b[0m\u001b[0;34m'scan'\u001b[0m\u001b[0;34m]\u001b[0m\u001b[0;34m[\u001b[0m\u001b[0;34m'192.168.1.106'\u001b[0m\u001b[0;34m]\u001b[0m\u001b[0;34m[\u001b[0m\u001b[0;34m'hostscript'\u001b[0m\u001b[0;34m]\u001b[0m\u001b[0;34m[\u001b[0m\u001b[0;36m0\u001b[0m\u001b[0;34m]\u001b[0m\u001b[0;34m[\u001b[0m\u001b[0;34m'output'\u001b[0m\u001b[0;34m]\u001b[0m\u001b[0;34m\u001b[0m\u001b[0;34m\u001b[0m\u001b[0m\n\u001b[0m",
      "\u001b[0;31mNameError\u001b[0m: name 'nm' is not defined"
     ]
    }
   ],
   "source": [
    "data = nm.scan(\"192.168.88.208\", '445',arguments='--script=smb-enum-shares.nse')['scan']['192.168.1.106']['hostscript'][0]['output']"
   ]
  },
  {
   "cell_type": "code",
   "execution_count": 46,
   "metadata": {},
   "outputs": [
    {
     "output_type": "execute_result",
     "data": {
      "text/plain": "'\\n  account_used: guest\\n  \\\\\\\\192.168.1.106\\\\ADMIN$: \\n    Type: STYPE_DISKTREE_HIDDEN\\n    Comment: \\\\xE9\\\\x81\\\\xA0\\\\xE7\\\\xAB\\\\xAF\\\\xE7\\\\xAE\\\\xA1\\\\xE7\\\\x90\\\\x86\\n    Anonymous access: <none>\\n    Current user access: <none>\\n  \\\\\\\\192.168.1.106\\\\C$: \\n    Type: STYPE_DISKTREE_HIDDEN\\n    Comment: \\\\xE9\\\\xA0\\\\x90\\\\xE8\\\\xA8\\\\xAD\\\\xE5\\\\x85\\\\xB1\\\\xE7\\\\x94\\\\xA8\\n    Anonymous access: <none>\\n    Current user access: <none>\\n  \\\\\\\\192.168.1.106\\\\D$: \\n    Type: STYPE_DISKTREE_HIDDEN\\n    Comment: \\\\xE9\\\\xA0\\\\x90\\\\xE8\\\\xA8\\\\xAD\\\\xE5\\\\x85\\\\xB1\\\\xE7\\\\x94\\\\xA8\\n    Anonymous access: <none>\\n    Current user access: <none>\\n  \\\\\\\\192.168.1.106\\\\Downloads: \\n    Type: STYPE_DISKTREE\\n    Comment: \\n    Anonymous access: <none>\\n    Current user access: READ\\n  \\\\\\\\192.168.1.106\\\\E$: \\n    Type: STYPE_DISKTREE_HIDDEN\\n    Comment: \\\\xE9\\\\xA0\\\\x90\\\\xE8\\\\xA8\\\\xAD\\\\xE5\\\\x85\\\\xB1\\\\xE7\\\\x94\\\\xA8\\n    Anonymous access: <none>\\n    Current user access: <none>\\n  \\\\\\\\192.168.1.106\\\\IPC$: \\n    Type: STYPE_IPC_HIDDEN\\n    Comment: \\\\xE9\\\\x81\\\\xA0\\\\xE7\\\\xAB\\\\xAF IPC\\n    Anonymous access: READ\\n    Current user access: READ/WRITE\\n  \\\\\\\\192.168.1.106\\\\Users: \\n    Type: STYPE_DISKTREE\\n    Comment: \\n    Anonymous access: <none>\\n    Current user access: READ'"
     },
     "metadata": {},
     "execution_count": 46
    }
   ],
   "source": [
    "data"
   ]
  },
  {
   "cell_type": "code",
   "execution_count": 48,
   "metadata": {
    "tags": []
   },
   "outputs": [
    {
     "output_type": "stream",
     "name": "stdout",
     "text": "\n  account_used: guest\n  \\\\192.168.1.106\\ADMIN$: \n    Type: STYPE_DISKTREE_HIDDEN\n    Comment: \\xE9\\x81\\xA0\\xE7\\xAB\\xAF\\xE7\\xAE\\xA1\\xE7\\x90\\x86\n    Anonymous access: <none>\n    Current user access: <none>\n  \\\\192.168.1.106\\C$: \n    Type: STYPE_DISKTREE_HIDDEN\n    Comment: \\xE9\\xA0\\x90\\xE8\\xA8\\xAD\\xE5\\x85\\xB1\\xE7\\x94\\xA8\n    Anonymous access: <none>\n    Current user access: <none>\n  \\\\192.168.1.106\\D$: \n    Type: STYPE_DISKTREE_HIDDEN\n    Comment: \\xE9\\xA0\\x90\\xE8\\xA8\\xAD\\xE5\\x85\\xB1\\xE7\\x94\\xA8\n    Anonymous access: <none>\n    Current user access: <none>\n  \\\\192.168.1.106\\Downloads: \n    Type: STYPE_DISKTREE\n    Comment: \n    Anonymous access: <none>\n    Current user access: READ\n  \\\\192.168.1.106\\E$: \n    Type: STYPE_DISKTREE_HIDDEN\n    Comment: \\xE9\\xA0\\x90\\xE8\\xA8\\xAD\\xE5\\x85\\xB1\\xE7\\x94\\xA8\n    Anonymous access: <none>\n    Current user access: <none>\n  \\\\192.168.1.106\\IPC$: \n    Type: STYPE_IPC_HIDDEN\n    Comment: \\xE9\\x81\\xA0\\xE7\\xAB\\xAF IPC\n    Anonymous access: READ\n    Current user access: READ/WRITE\n  \\\\192.168.1.106\\Users: \n    Type: STYPE_DISKTREE\n    Comment: \n    Anonymous access: <none>\n    Current user access: READ\n"
    }
   ],
   "source": [
    "re.sub('\\n',',')"
   ]
  },
  {
   "cell_type": "code",
   "execution_count": null,
   "metadata": {},
   "outputs": [],
   "source": []
  }
 ]
}