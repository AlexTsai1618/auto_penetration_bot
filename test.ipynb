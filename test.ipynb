{
 "metadata": {
  "language_info": {
   "codemirror_mode": {
    "name": "ipython",
    "version": 3
   },
   "file_extension": ".py",
   "mimetype": "text/x-python",
   "name": "python",
   "nbconvert_exporter": "python",
   "pygments_lexer": "ipython3",
   "version": 3
  },
  "orig_nbformat": 2
 },
 "nbformat": 4,
 "nbformat_minor": 2,
 "cells": [
  {
   "cell_type": "code",
   "execution_count": null,
   "metadata": {},
   "outputs": [
    {
     "output_type": "error",
     "ename": "Error",
     "evalue": "Jupyter cannot be started. Error attempting to locate jupyter: Data Science library notebook is not installed in interpreter Python 3.8.2 64-bit.",
     "traceback": [
      "Error: Jupyter cannot be started. Error attempting to locate jupyter: Data Science library notebook is not installed in interpreter Python 3.8.2 64-bit.",
      "at b.startServer (/home/kali/.vscode-server/extensions/ms-python.python-2020.8.105045/out/client/extension.js:48:315241)",
      "at processTicksAndRejections (internal/process/task_queues.js:89:5)",
      "at async b.createServer (/home/kali/.vscode-server/extensions/ms-python.python-2020.8.105045/out/client/extension.js:48:314683)",
      "at async connect (/home/kali/.vscode-server/extensions/ms-python.python-2020.8.105045/out/client/extension.js:48:442783)",
      "at async f.ensureConnectionAndNotebookImpl (/home/kali/.vscode-server/extensions/ms-python.python-2020.8.105045/out/client/extension.js:24:585243)",
      "at async f.ensureConnectionAndNotebook (/home/kali/.vscode-server/extensions/ms-python.python-2020.8.105045/out/client/extension.js:24:584545)",
      "at async f.clearResult (/home/kali/.vscode-server/extensions/ms-python.python-2020.8.105045/out/client/extension.js:24:580347)",
      "at async f.reexecuteCell (/home/kali/.vscode-server/extensions/ms-python.python-2020.8.105045/out/client/extension.js:9:123814)",
      "at async f.reexecuteCells (/home/kali/.vscode-server/extensions/ms-python.python-2020.8.105045/out/client/extension.js:9:120337)"
     ]
    }
   ],
   "source": [
    "import nmap"
   ]
  },
  {
   "cell_type": "code",
   "execution_count": null,
   "metadata": {},
   "outputs": [],
   "source": []
  }
 ]
}