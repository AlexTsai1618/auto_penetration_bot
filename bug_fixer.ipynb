{
 "metadata": {
  "language_info": {
   "codemirror_mode": {
    "name": "ipython",
    "version": 3
   },
   "file_extension": ".py",
   "mimetype": "text/x-python",
   "name": "python",
   "nbconvert_exporter": "python",
   "pygments_lexer": "ipython3",
   "version": "3.8.2-final"
  },
  "orig_nbformat": 2,
  "kernelspec": {
   "name": "Python 3.8.2 64-bit",
   "display_name": "Python 3.8.2 64-bit",
   "metadata": {
    "interpreter": {
     "hash": "31f2aee4e71d21fbe5cf8b01ff0e069b9275f58929596ceb00d14d90e3e16cd6"
    }
   }
  }
 },
 "nbformat": 4,
 "nbformat_minor": 2,
 "cells": [
  {
   "cell_type": "code",
   "execution_count": 23,
   "metadata": {},
   "outputs": [],
   "source": [
    "file_path = \"data/raw_data/192.168.121.147/192.168.121.147_password.txt\""
   ]
  },
  {
   "cell_type": "code",
   "execution_count": 24,
   "metadata": {},
   "outputs": [],
   "source": [
    "with open(file_path,'r') as file:\n",
    "    try:\n",
    "        raw = [file for file in file.readlines() if file.startswith(\"ACCOUNT FOUND:\")][0]\n",
    "        clean_data = raw[51::].split(' ')\n",
    "        account = clean_data[0]\n",
    "        password = clean_data[2]\n",
    "    except:\n",
    "        account = \"NULL\"\n",
    "        password = \"NULL\""
   ]
  },
  {
   "cell_type": "code",
   "execution_count": 25,
   "metadata": {},
   "outputs": [
    {
     "output_type": "execute_result",
     "data": {
      "text/plain": "'NULL'"
     },
     "metadata": {},
     "execution_count": 25
    }
   ],
   "source": [
    "password"
   ]
  },
  {
   "cell_type": "code",
   "execution_count": 26,
   "metadata": {
    "tags": []
   },
   "outputs": [
    {
     "output_type": "stream",
     "name": "stdout",
     "text": "3 ['NULL', 'Windows 10 Pro 19041', 'Windows 10 Pro 18363']\n"
    }
   ],
   "source": []
  },
  {
   "cell_type": "code",
   "execution_count": null,
   "metadata": {},
   "outputs": [],
   "source": [
    "  if string.match(os, \"^Windows 5%.0\") then\n",
    "    parts = {\"o\", \"microsoft\", \"windows_2000\"}\n",
    "  elseif string.match(os, \"^Windows 5%.1\") then\n",
    "    parts = {\"o\", \"microsoft\", \"windows_xp\"}\n",
    "  elseif string.match(os, \"^Windows Server.*2003\") then\n",
    "    parts = {\"o\", \"microsoft\", \"windows_server_2003\"}\n",
    "  elseif string.match(os, \"^Windows Vista\") then\n",
    "    parts = {\"o\", \"microsoft\", \"windows_vista\"}\n",
    "  elseif string.match(os, \"^Windows Server.*2008\") then\n",
    "    parts = {\"o\", \"microsoft\", \"windows_server_2008\"}\n",
    "  elseif string.match(os, \"^Windows 7\") then\n",
    "    parts = {\"o\", \"microsoft\", \"windows_7\"}\n",
    "  elseif string.match(os, \"^Windows 8%f[^%d.]\") then\n",
    "    parts = {\"o\", \"microsoft\", \"windows_8\"}\n",
    "  elseif string.match(os, \"^Windows 8.1\") then\n",
    "    parts = {\"o\", \"microsoft\", \"windows_8.1\"}\n",
    "  elseif string.match(os, \"^Windows 10%f[^%d.]\") then\n",
    "    parts = {\"o\", \"microsoft\", \"windows_10\"}\n",
    "  elseif string.match(os, \"^Windows Server.*2012\") then\n",
    "    parts = {\"o\", \"microsoft\", \"windows_server_2012\"}\n",
    "  end"
   ]
  },
  {
   "cell_type": "code",
   "execution_count": 27,
   "metadata": {},
   "outputs": [],
   "source": [
    "raw = "
   ]
  },
  {
   "cell_type": "code",
   "execution_count": 98,
   "metadata": {},
   "outputs": [],
   "source": [
    "def os_clean(raw_file):\n",
    "    data = {}\n",
    "    import os\n",
    "    if os.path.isfile(raw_file):\n",
    "        with open(raw_file,'rb')as file:\n",
    "            parsed_file = xmltodict.parse(file)\n",
    "            parsed_file2 = parsed_file['nmaprun']['host'][\"os\"]['osmatch'][0]['@name']\n",
    "            try:\n",
    "            \n",
    "                parsed_file = xmltodict.parse((file))\n",
    "                parsed_file2 = parsed_file['nmaprun']['host']\n",
    "         \n",
    "                os_info = parsed_file2[0]['#text']\n",
    "                fqdn = parsed_file2[4]['#text']\n",
    "                \n",
    "                \n",
    "                workgroup = parsed_file2[6]['#text']\n",
    "                print(\"here A\")\n",
    "                return os_info,fqdn,workgroup\n",
    "                \n",
    "                    \n",
    "            except:\n",
    "            # if True:\n",
    "\n",
    "\n",
    "                os_info = parsed_file2\n",
    "            \n",
    "                return os_info,\"NULL\",\"NULL\"                                                                                  "
   ]
  },
  {
   "cell_type": "code",
   "execution_count": 99,
   "metadata": {
    "tags": []
   },
   "outputs": [
    {
     "output_type": "stream",
     "name": "stdout",
     "text": "here B\n"
    },
    {
     "output_type": "execute_result",
     "data": {
      "text/plain": "('Microsoft Windows Server 2008 SP1 or Windows Server 2008 R2', 'NULL', 'NULL')"
     },
     "metadata": {},
     "execution_count": 99
    }
   ],
   "source": [
    "os_clean(\"data/raw_data/192.168.121.147/192.168.121.147_os.xml\")"
   ]
  },
  {
   "cell_type": "code",
   "execution_count": 2,
   "metadata": {
    "tags": []
   },
   "outputs": [
    {
     "output_type": "stream",
     "name": "stdout",
     "text": "6 ['Microsoft Windows Server 2008 SP1 or Windows Server 2008 R2', 'Microsoft Windows 7', 'Microsoft Windows 7', 'NULL', 'NULL', 'NULL']\n"
    }
   ],
   "source": [
    "import os\n",
    "# from docxtpl import DocxTemplate\n",
    "import json\n",
    "def report(datas):\n",
    "    return 0\n",
    "def data_count(datas):\n",
    "    ips = []\n",
    "    computer_os = []\n",
    "    vuln_count = {\n",
    "        \n",
    "    }\n",
    "    os_count = {\n",
    "        \"Windows 10\":0,\n",
    "        \"Windows 7\":0,\n",
    "        \"Windows 8\":0,\n",
    "        \"Windows XP\":0,\n",
    "        \"Windows Server 2016\":0,\n",
    "        \"Windows Server 2012 R2\":0,\n",
    "        \"Windows Server 2008 R2\":0,\n",
    "        \"Windows Server 2008\":0\n",
    "    }\n",
    "    for data in datas:\n",
    "        file = open(data)\n",
    "        data = json.load(file)\n",
    "        ips.append(data['ip'])\n",
    "        computer_os.append(data['os'])\n",
    "    \n",
    "    \n",
    "\n",
    "def paths():\n",
    "  \n",
    "    path = os.path.join('data','clean_data')\n",
    "    files = os.listdir(path)\n",
    "    files = [os.path.join(path,file) for file in files]\n",
    "    data_count(files)\n",
    "\n",
    "if __name__ == \"__main__\":\n",
    "    paths()"
   ]
  },
  {
   "cell_type": "code",
   "execution_count": 3,
   "metadata": {
    "tags": []
   },
   "outputs": [
    {
     "output_type": "stream",
     "name": "stdout",
     "text": "{'cve_2020_1206': 0, 'cve_2020_0796': 0, 'ms07-029': 0, 'ms08-067': 0, 'ms10-054': 0, 'ms10-061': 0, 'ms17-010': 0}\n"
    }
   ],
   "source": [
    "import os\n",
    "# from docxtpl import DocxTemplate\n",
    "import json\n",
    "def report(datas):\n",
    "    return 0\n",
    "def data_count(datas):\n",
    "    ips = []\n",
    "    computer_os = []\n",
    "    os_count = {\n",
    "        \"Windows 10\":0,\n",
    "        \"Windows 7\":0,\n",
    "        \"Windows 8\":0,\n",
    "        \"Windows XP\":0,\n",
    "        \"Windows Server 2016\":0,\n",
    "        \"Windows Server 2012 R2\":0,\n",
    "        \"Windows Server 2008 R2\":0,\n",
    "        \"Windows Server 2008\":0\n",
    "    }\n",
    "    vuln_count = {\n",
    "        \"cve_2020_1206\":0,\n",
    "        \"cve_2020_0796\":0,\n",
    "        \"ms07-029\":0,\n",
    "        \"ms08-067\":0,\n",
    "        \"ms10-054\":0,\n",
    "        \"ms10-061\":0,\n",
    "        \"ms17-010\":0,\n",
    "\n",
    "    }\n",
    "    for data in datas:\n",
    "        file = open(data)\n",
    "        data = json.load(file)\n",
    "        ips.append(data['ip'])\n",
    "        computer_os.append(data['os'])\n",
    "        if data[\"cve_2020_1206\"] == \"Vulnerable\":\n",
    "            vuln_count[\"cve_2020_1206\"] += 1\n",
    "        elif data[\"cve_2020_0796\"] == \"Vulnerable\":\n",
    "            vuln_count[\"cve_2020_0796\"] += 1\n",
    "        elif data[\"ms07-029\"] == \"Vulnerable\":\n",
    "            vuln_count[\"ms07-029\"] += 1\n",
    "        elif data[\"ms08-067\"] == \"Vulnerable\":\n",
    "            vuln_count[\"ms08-067\"] += 1\n",
    "        elif data[\"ms10-054\"] == \"Vulnerable\":\n",
    "            vuln_count[\"ms10-054\"] += 1\n",
    "        elif data[\"ms10-061\"] == \"Vulnerable\":\n",
    "            vuln_count[\"ms10-061\"] += 1\n",
    "        elif data[\"ms17-010\"] == \"Vulnerable\":\n",
    "            vuln_count[\"ms17-010\"] += 1                                                \n",
    "    \n",
    "    print(vuln_count)\n",
    "\n",
    "def paths():\n",
    "  \n",
    "    path = os.path.join('data','clean_data')\n",
    "    files = os.listdir(path)\n",
    "    files = [os.path.join(path,file) for file in files]\n",
    "    data_count(files)\n",
    "\n",
    "if __name__ == \"__main__\":\n",
    "    paths()\n"
   ]
  },
  {
   "cell_type": "code",
   "execution_count": 22,
   "metadata": {},
   "outputs": [],
   "source": [
    "import xmltodict\n",
    "def os_clean(raw_file):\n",
    "    data = {}\n",
    "    import os\n",
    "    if os.path.isfile(raw_file):\n",
    "        with open(raw_file,'rb')as file:\n",
    "            parsed_file = xmltodict.parse(file)\n",
    "            # print(parsed_file['nmaprun']['host']['hostscript']['s'])\n",
    "            try:\n",
    "                parsed_file2 = parsed_file['nmaprun']['host']['hostscript']['script']['elem']\n",
    "                os_info = parsed_file2[0]['#text']\n",
    "                fqdn = parsed_file2[4]['#text']\n",
    "                workgroup = parsed_file2[6]['#text']\n",
    "                print(\"here A\")\n",
    "                return os_info,fqdn,workgroup\n",
    "            except:\n",
    "\n",
    "                try:\n",
    "                    parsed_file2 = parsed_file['nmaprun']['host'][\"os\"]['osmatch'][0]['@name']\n",
    "                    os_info = parsed_file2\n",
    "                    return os_info,\"NULL\",\"NULL\"\n",
    "                except:\n",
    "                    return \"NULL\",\"NULL\",\"NULL\""
   ]
  },
  {
   "cell_type": "code",
   "execution_count": 23,
   "metadata": {
    "tags": []
   },
   "outputs": [
    {
     "output_type": "stream",
     "name": "stdout",
     "text": "here A\n"
    },
    {
     "output_type": "execute_result",
     "data": {
      "text/plain": "('Windows Server 2003 3790 Service Pack 2', 'printer', 'WORKGROUP\\\\x00')"
     },
     "metadata": {},
     "execution_count": 23
    }
   ],
   "source": [
    "os_clean(\"data/raw_data/192.168.121.14/192.168.121.14_os.xml\")"
   ]
  },
  {
   "cell_type": "code",
   "execution_count": 24,
   "metadata": {},
   "outputs": [],
   "source": [
    "# Dictionary of strings and ints\n",
    "path = \n",
    "wordFreqDic = {\n",
    "    \"Hello\": 56,\n",
    "    \"at\" : 23 ,\n",
    "    \"test\" : 43,\n",
    "    \"this\" : 43\n",
    "    }\n"
   ]
  },
  {
   "cell_type": "code",
   "execution_count": 26,
   "metadata": {},
   "outputs": [],
   "source": [
    "wordFreqDic.update( {'192.168.89.222' : 23} )"
   ]
  },
  {
   "cell_type": "code",
   "execution_count": 27,
   "metadata": {},
   "outputs": [
    {
     "output_type": "execute_result",
     "data": {
      "text/plain": "{'Hello': 56, 'at': 23, 'test': 43, 'this': 43, '192.168.89.222': 23}"
     },
     "metadata": {},
     "execution_count": 27
    }
   ],
   "source": [
    "wordFreqDic"
   ]
  },
  {
   "cell_type": "code",
   "execution_count": 36,
   "metadata": {},
   "outputs": [],
   "source": [
    "path = os.path.join('data','clean_data')\n",
    "files = os.listdir(path)\n",
    "datas = [os.path.join(path,file) for file in files]"
   ]
  },
  {
   "cell_type": "code",
   "execution_count": 59,
   "metadata": {},
   "outputs": [],
   "source": [
    "data\n",
    "share_data = {}"
   ]
  },
  {
   "cell_type": "code",
   "execution_count": 64,
   "metadata": {
    "tags": []
   },
   "outputs": [
    {
     "output_type": "stream",
     "name": "stdout",
     "text": "er\ner\ner\ner\ner\n"
    }
   ],
   "source": [
    "import json\n",
    "for data in datas:\n",
    "    \n",
    "    file = open(data)\n",
    "    data = json.load(file)\n",
    "    if data[\"cve_2020_1206\"] == \"Vulnerable\":\n",
    "            print(\"er\")\n",
    "    elif data['share_data'] != \"NULL\":\n",
    "\n",
    "        share_data.update({data['ip']:data[\"share_data\"]})"
   ]
  },
  {
   "cell_type": "code",
   "execution_count": 65,
   "metadata": {},
   "outputs": [
    {
     "output_type": "execute_result",
     "data": {
      "text/plain": "{'192.168.121.14': {'\\\\\\\\192.168.121.14\\\\ADMIN$': ['Anonymous access',\n   '<none>',\n   'Current user access',\n   '<none>'],\n  '\\\\\\\\192.168.121.14\\\\C$': ['Anonymous access',\n   '<none>',\n   'Current user access',\n   '<none>'],\n  '\\\\\\\\192.168.121.14\\\\E$': ['Anonymous access',\n   '<none>',\n   'Current user access',\n   '<none>'],\n  '\\\\\\\\192.168.121.14\\\\FX P255 dw': ['Anonymous access',\n   '<none>',\n   'Current user access',\n   'READ'],\n  '\\\\\\\\192.168.121.14\\\\HP-CP3525$': ['Anonymous access',\n   '<none>',\n   'Current user access',\n   'READ'],\n  '\\\\\\\\192.168.121.14\\\\IPC$': ['Anonymous access',\n   'READ',\n   'Current user access',\n   'READ/WRITE'],\n  '\\\\\\\\192.168.121.14\\\\SHARPMX-': ['Anonymous access',\n   '<none>',\n   'Current user access',\n   'READ'],\n  '\\\\\\\\192.168.121.14\\\\print$': ['Anonymous access',\n   '<none>',\n   'Current user access',\n   'READ'],\n  '\\\\\\\\192.168.121.14\\\\prnproc$': ['Anonymous access',\n   '<none>',\n   'Current user access',\n   'READ'],\n  '\\\\\\\\192.168.121.14\\\\scan': ['Anonymous access',\n   '<none>',\n   'Current user access',\n   'READ/WRITE']}}"
     },
     "metadata": {},
     "execution_count": 65
    }
   ],
   "source": [
    "share_data"
   ]
  },
  {
   "cell_type": "code",
   "execution_count": null,
   "metadata": {},
   "outputs": [],
   "source": []
  }
 ]
}