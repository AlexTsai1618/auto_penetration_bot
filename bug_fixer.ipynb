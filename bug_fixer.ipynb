{
 "metadata": {
  "language_info": {
   "codemirror_mode": {
    "name": "ipython",
    "version": 3
   },
   "file_extension": ".py",
   "mimetype": "text/x-python",
   "name": "python",
   "nbconvert_exporter": "python",
   "pygments_lexer": "ipython3",
   "version": "3.8.2-final"
  },
  "orig_nbformat": 2,
  "kernelspec": {
   "name": "Python 3.8.2 64-bit",
   "display_name": "Python 3.8.2 64-bit",
   "metadata": {
    "interpreter": {
     "hash": "31f2aee4e71d21fbe5cf8b01ff0e069b9275f58929596ceb00d14d90e3e16cd6"
    }
   }
  }
 },
 "nbformat": 4,
 "nbformat_minor": 2,
 "cells": [
  {
   "cell_type": "code",
   "execution_count": 15,
   "metadata": {},
   "outputs": [],
   "source": [
    "file_path = \"data/raw_data/192.168.28.87/192.168.28.87_password.txt\""
   ]
  },
  {
   "cell_type": "code",
   "execution_count": 24,
   "metadata": {},
   "outputs": [
    {
     "output_type": "stream",
     "name": "stdout",
     "text": [
      "['ACCOUNT', 'FOUND:', '[smbnt]', 'Host:', '192.168.28.87', 'User:', 'Guest', 'Password:', '12345', '[ERROR', '(0x000234:STATUS_ACCOUNT_LOCKED_OUT)]\\n']\n"
     ]
    }
   ],
   "source": [
    "with open(file_path,'r') as file:\n",
    "    try:\n",
    "        raw = [file for file in file.readlines() if file.startswith(\"ACCOUNT FOUND:\")][0]\n",
    "        clean_data = raw.split(' ')\n",
    "        print(clean_data)\n",
    "        # account = clean_data[0]\n",
    "        # password = clean_data[2]\n",
    "        #                     except:\n",
    "                             \n",
    "        account = clean_data[6]\n",
    "        password = clean_data[8]\n",
    "    except:\n",
    "        account = \"NULL\"\n",
    "        password = \"NULL\""
   ]
  },
  {
   "cell_type": "code",
   "execution_count": 26,
   "metadata": {},
   "outputs": [
    {
     "output_type": "execute_result",
     "data": {
      "text/plain": [
       "('12345', 'Guest')"
      ]
     },
     "metadata": {},
     "execution_count": 26
    }
   ],
   "source": [
    "password,account"
   ]
  },
  {
   "cell_type": "code",
   "execution_count": 26,
   "metadata": {
    "tags": []
   },
   "outputs": [
    {
     "output_type": "stream",
     "name": "stdout",
     "text": "3 ['NULL', 'Windows 10 Pro 19041', 'Windows 10 Pro 18363']\n"
    }
   ],
   "source": []
  },
  {
   "cell_type": "code",
   "execution_count": null,
   "metadata": {},
   "outputs": [],
   "source": [
    "  if string.match(os, \"^Windows 5%.0\") then\n",
    "    parts = {\"o\", \"microsoft\", \"windows_2000\"}\n",
    "  elseif string.match(os, \"^Windows 5%.1\") then\n",
    "    parts = {\"o\", \"microsoft\", \"windows_xp\"}\n",
    "  elseif string.match(os, \"^Windows Server.*2003\") then\n",
    "    parts = {\"o\", \"microsoft\", \"windows_server_2003\"}\n",
    "  elseif string.match(os, \"^Windows Vista\") then\n",
    "    parts = {\"o\", \"microsoft\", \"windows_vista\"}\n",
    "  elseif string.match(os, \"^Windows Server.*2008\") then\n",
    "    parts = {\"o\", \"microsoft\", \"windows_server_2008\"}\n",
    "  elseif string.match(os, \"^Windows 7\") then\n",
    "    parts = {\"o\", \"microsoft\", \"windows_7\"}\n",
    "  elseif string.match(os, \"^Windows 8%f[^%d.]\") then\n",
    "    parts = {\"o\", \"microsoft\", \"windows_8\"}\n",
    "  elseif string.match(os, \"^Windows 8.1\") then\n",
    "    parts = {\"o\", \"microsoft\", \"windows_8.1\"}\n",
    "  elseif string.match(os, \"^Windows 10%f[^%d.]\") then\n",
    "    parts = {\"o\", \"microsoft\", \"windows_10\"}\n",
    "  elseif string.match(os, \"^Windows Server.*2012\") then\n",
    "    parts = {\"o\", \"microsoft\", \"windows_server_2012\"}\n",
    "  end"
   ]
  },
  {
   "cell_type": "code",
   "execution_count": 27,
   "metadata": {},
   "outputs": [],
   "source": [
    "raw = "
   ]
  },
  {
   "cell_type": "code",
   "execution_count": 98,
   "metadata": {},
   "outputs": [],
   "source": [
    "def os_clean(raw_file):\n",
    "    data = {}\n",
    "    import os\n",
    "    if os.path.isfile(raw_file):\n",
    "        with open(raw_file,'rb')as file:\n",
    "            parsed_file = xmltodict.parse(file)\n",
    "            parsed_file2 = parsed_file['nmaprun']['host'][\"os\"]['osmatch'][0]['@name']\n",
    "            try:\n",
    "            \n",
    "                parsed_file = xmltodict.parse((file))\n",
    "                parsed_file2 = parsed_file['nmaprun']['host']\n",
    "         \n",
    "                os_info = parsed_file2[0]['#text']\n",
    "                fqdn = parsed_file2[4]['#text']\n",
    "                \n",
    "                \n",
    "                workgroup = parsed_file2[6]['#text']\n",
    "                print(\"here A\")\n",
    "                return os_info,fqdn,workgroup\n",
    "                \n",
    "                    \n",
    "            except:\n",
    "            # if True:\n",
    "\n",
    "\n",
    "                os_info = parsed_file2\n",
    "            \n",
    "                return os_info,\"NULL\",\"NULL\"                                                                                  "
   ]
  },
  {
   "cell_type": "code",
   "execution_count": 99,
   "metadata": {
    "tags": []
   },
   "outputs": [
    {
     "output_type": "stream",
     "name": "stdout",
     "text": "here B\n"
    },
    {
     "output_type": "execute_result",
     "data": {
      "text/plain": "('Microsoft Windows Server 2008 SP1 or Windows Server 2008 R2', 'NULL', 'NULL')"
     },
     "metadata": {},
     "execution_count": 99
    }
   ],
   "source": [
    "os_clean(\"data/raw_data/192.168.121.147/192.168.121.147_os.xml\")"
   ]
  },
  {
   "cell_type": "code",
   "execution_count": 2,
   "metadata": {
    "tags": []
   },
   "outputs": [
    {
     "output_type": "stream",
     "name": "stdout",
     "text": "6 ['Microsoft Windows Server 2008 SP1 or Windows Server 2008 R2', 'Microsoft Windows 7', 'Microsoft Windows 7', 'NULL', 'NULL', 'NULL']\n"
    }
   ],
   "source": [
    "import os\n",
    "# from docxtpl import DocxTemplate\n",
    "import json\n",
    "def report(datas):\n",
    "    return 0\n",
    "def data_count(datas):\n",
    "    ips = []\n",
    "    computer_os = []\n",
    "    vuln_count = {\n",
    "        \n",
    "    }\n",
    "    os_count = {\n",
    "        \"Windows 10\":0,\n",
    "        \"Windows 7\":0,\n",
    "        \"Windows 8\":0,\n",
    "        \"Windows XP\":0,\n",
    "        \"Windows Server 2016\":0,\n",
    "        \"Windows Server 2012 R2\":0,\n",
    "        \"Windows Server 2008 R2\":0,\n",
    "        \"Windows Server 2008\":0\n",
    "    }\n",
    "    for data in datas:\n",
    "        file = open(data)\n",
    "        data = json.load(file)\n",
    "        ips.append(data['ip'])\n",
    "        computer_os.append(data['os'])\n",
    "    \n",
    "    \n",
    "\n",
    "def paths():\n",
    "  \n",
    "    path = os.path.join('data','clean_data')\n",
    "    files = os.listdir(path)\n",
    "    files = [os.path.join(path,file) for file in files]\n",
    "    data_count(files)\n",
    "\n",
    "if __name__ == \"__main__\":\n",
    "    paths()"
   ]
  },
  {
   "cell_type": "code",
   "execution_count": 3,
   "metadata": {
    "tags": []
   },
   "outputs": [
    {
     "output_type": "stream",
     "name": "stdout",
     "text": "{'cve_2020_1206': 0, 'cve_2020_0796': 0, 'ms07-029': 0, 'ms08-067': 0, 'ms10-054': 0, 'ms10-061': 0, 'ms17-010': 0}\n"
    }
   ],
   "source": [
    "import os\n",
    "# from docxtpl import DocxTemplate\n",
    "import json\n",
    "def report(datas):\n",
    "    return 0\n",
    "def data_count(datas):\n",
    "    ips = []\n",
    "    computer_os = []\n",
    "    os_count = {\n",
    "        \"Windows 10\":0,\n",
    "        \"Windows 7\":0,\n",
    "        \"Windows 8\":0,\n",
    "        \"Windows XP\":0,\n",
    "        \"Windows Server 2016\":0,\n",
    "        \"Windows Server 2012 R2\":0,\n",
    "        \"Windows Server 2008 R2\":0,\n",
    "        \"Windows Server 2008\":0\n",
    "    }\n",
    "    vuln_count = {\n",
    "        \"cve_2020_1206\":0,\n",
    "        \"cve_2020_0796\":0,\n",
    "        \"ms07-029\":0,\n",
    "        \"ms08-067\":0,\n",
    "        \"ms10-054\":0,\n",
    "        \"ms10-061\":0,\n",
    "        \"ms17-010\":0,\n",
    "\n",
    "    }\n",
    "    for data in datas:\n",
    "        file = open(data)\n",
    "        data = json.load(file)\n",
    "        ips.append(data['ip'])\n",
    "        computer_os.append(data['os'])\n",
    "        if data[\"cve_2020_1206\"] == \"Vulnerable\":\n",
    "            vuln_count[\"cve_2020_1206\"] += 1\n",
    "        elif data[\"cve_2020_0796\"] == \"Vulnerable\":\n",
    "            vuln_count[\"cve_2020_0796\"] += 1\n",
    "        elif data[\"ms07-029\"] == \"Vulnerable\":\n",
    "            vuln_count[\"ms07-029\"] += 1\n",
    "        elif data[\"ms08-067\"] == \"Vulnerable\":\n",
    "            vuln_count[\"ms08-067\"] += 1\n",
    "        elif data[\"ms10-054\"] == \"Vulnerable\":\n",
    "            vuln_count[\"ms10-054\"] += 1\n",
    "        elif data[\"ms10-061\"] == \"Vulnerable\":\n",
    "            vuln_count[\"ms10-061\"] += 1\n",
    "        elif data[\"ms17-010\"] == \"Vulnerable\":\n",
    "            vuln_count[\"ms17-010\"] += 1                                                \n",
    "    \n",
    "    print(vuln_count)\n",
    "\n",
    "def paths():\n",
    "  \n",
    "    path = os.path.join('data','clean_data')\n",
    "    files = os.listdir(path)\n",
    "    files = [os.path.join(path,file) for file in files]\n",
    "    data_count(files)\n",
    "\n",
    "if __name__ == \"__main__\":\n",
    "    paths()\n"
   ]
  },
  {
   "cell_type": "code",
   "execution_count": 22,
   "metadata": {},
   "outputs": [],
   "source": [
    "import xmltodict\n",
    "def os_clean(raw_file):\n",
    "    data = {}\n",
    "    import os\n",
    "    if os.path.isfile(raw_file):\n",
    "        with open(raw_file,'rb')as file:\n",
    "            parsed_file = xmltodict.parse(file)\n",
    "            # print(parsed_file['nmaprun']['host']['hostscript']['s'])\n",
    "            try:\n",
    "                parsed_file2 = parsed_file['nmaprun']['host']['hostscript']['script']['elem']\n",
    "                os_info = parsed_file2[0]['#text']\n",
    "                fqdn = parsed_file2[4]['#text']\n",
    "                workgroup = parsed_file2[6]['#text']\n",
    "                print(\"here A\")\n",
    "                return os_info,fqdn,workgroup\n",
    "            except:\n",
    "\n",
    "                try:\n",
    "                    parsed_file2 = parsed_file['nmaprun']['host'][\"os\"]['osmatch'][0]['@name']\n",
    "                    os_info = parsed_file2\n",
    "                    return os_info,\"NULL\",\"NULL\"\n",
    "                except:\n",
    "                    return \"NULL\",\"NULL\",\"NULL\""
   ]
  },
  {
   "cell_type": "code",
   "execution_count": 23,
   "metadata": {
    "tags": []
   },
   "outputs": [
    {
     "output_type": "stream",
     "name": "stdout",
     "text": "here A\n"
    },
    {
     "output_type": "execute_result",
     "data": {
      "text/plain": "('Windows Server 2003 3790 Service Pack 2', 'printer', 'WORKGROUP\\\\x00')"
     },
     "metadata": {},
     "execution_count": 23
    }
   ],
   "source": [
    "os_clean(\"data/raw_data/192.168.121.14/192.168.121.14_os.xml\")"
   ]
  },
  {
   "cell_type": "code",
   "execution_count": 24,
   "metadata": {},
   "outputs": [],
   "source": [
    "# Dictionary of strings and ints\n",
    "path = \n",
    "wordFreqDic = {\n",
    "    \"Hello\": 56,\n",
    "    \"at\" : 23 ,\n",
    "    \"test\" : 43,\n",
    "    \"this\" : 43\n",
    "    }\n"
   ]
  },
  {
   "cell_type": "code",
   "execution_count": 26,
   "metadata": {},
   "outputs": [],
   "source": [
    "wordFreqDic.update( {'192.168.89.222' : 23} )"
   ]
  },
  {
   "cell_type": "code",
   "execution_count": 27,
   "metadata": {},
   "outputs": [
    {
     "output_type": "execute_result",
     "data": {
      "text/plain": "{'Hello': 56, 'at': 23, 'test': 43, 'this': 43, '192.168.89.222': 23}"
     },
     "metadata": {},
     "execution_count": 27
    }
   ],
   "source": [
    "wordFreqDic"
   ]
  },
  {
   "cell_type": "code",
   "execution_count": 36,
   "metadata": {},
   "outputs": [],
   "source": [
    "path = os.path.join('data','clean_data')\n",
    "files = os.listdir(path)\n",
    "datas = [os.path.join(path,file) for file in files]"
   ]
  },
  {
   "cell_type": "code",
   "execution_count": 59,
   "metadata": {},
   "outputs": [],
   "source": [
    "data\n",
    "share_data = {}"
   ]
  },
  {
   "cell_type": "code",
   "execution_count": 64,
   "metadata": {
    "tags": []
   },
   "outputs": [
    {
     "output_type": "stream",
     "name": "stdout",
     "text": "er\ner\ner\ner\ner\n"
    }
   ],
   "source": [
    "import json\n",
    "for data in datas:\n",
    "    \n",
    "    file = open(data)\n",
    "    data = json.load(file)\n",
    "    if data[\"cve_2020_1206\"] == \"Vulnerable\":\n",
    "            print(\"er\")\n",
    "    elif data['share_data'] != \"NULL\":\n",
    "\n",
    "        share_data.update({data['ip']:data[\"share_data\"]})"
   ]
  },
  {
   "cell_type": "code",
   "execution_count": 65,
   "metadata": {},
   "outputs": [
    {
     "output_type": "execute_result",
     "data": {
      "text/plain": "{'192.168.121.14': {'\\\\\\\\192.168.121.14\\\\ADMIN$': ['Anonymous access',\n   '<none>',\n   'Current user access',\n   '<none>'],\n  '\\\\\\\\192.168.121.14\\\\C$': ['Anonymous access',\n   '<none>',\n   'Current user access',\n   '<none>'],\n  '\\\\\\\\192.168.121.14\\\\E$': ['Anonymous access',\n   '<none>',\n   'Current user access',\n   '<none>'],\n  '\\\\\\\\192.168.121.14\\\\FX P255 dw': ['Anonymous access',\n   '<none>',\n   'Current user access',\n   'READ'],\n  '\\\\\\\\192.168.121.14\\\\HP-CP3525$': ['Anonymous access',\n   '<none>',\n   'Current user access',\n   'READ'],\n  '\\\\\\\\192.168.121.14\\\\IPC$': ['Anonymous access',\n   'READ',\n   'Current user access',\n   'READ/WRITE'],\n  '\\\\\\\\192.168.121.14\\\\SHARPMX-': ['Anonymous access',\n   '<none>',\n   'Current user access',\n   'READ'],\n  '\\\\\\\\192.168.121.14\\\\print$': ['Anonymous access',\n   '<none>',\n   'Current user access',\n   'READ'],\n  '\\\\\\\\192.168.121.14\\\\prnproc$': ['Anonymous access',\n   '<none>',\n   'Current user access',\n   'READ'],\n  '\\\\\\\\192.168.121.14\\\\scan': ['Anonymous access',\n   '<none>',\n   'Current user access',\n   'READ/WRITE']}}"
     },
     "metadata": {},
     "execution_count": 65
    }
   ],
   "source": [
    "share_data"
   ]
  },
  {
   "cell_type": "code",
   "execution_count": 1,
   "metadata": {},
   "outputs": [
    {
     "output_type": "error",
     "ename": "ModuleNotFoundError",
     "evalue": "No module named 'smb'",
     "traceback": [
      "\u001b[0;31m---------------------------------------------------------------------------\u001b[0m",
      "\u001b[0;31mModuleNotFoundError\u001b[0m                       Traceback (most recent call last)",
      "\u001b[0;32m<ipython-input-1-f0573ad91f53>\u001b[0m in \u001b[0;36m<module>\u001b[0;34m()\u001b[0m\n\u001b[1;32m      1\u001b[0m \u001b[0;32mimport\u001b[0m \u001b[0msocket\u001b[0m\u001b[0;34m\u001b[0m\u001b[0;34m\u001b[0m\u001b[0m\n\u001b[0;32m----> 2\u001b[0;31m \u001b[0;32mfrom\u001b[0m \u001b[0msmb\u001b[0m\u001b[0;34m.\u001b[0m\u001b[0mSMBConnection\u001b[0m \u001b[0;32mimport\u001b[0m \u001b[0mSMBConnection\u001b[0m\u001b[0;34m\u001b[0m\u001b[0;34m\u001b[0m\u001b[0m\n\u001b[0m",
      "\u001b[0;31mModuleNotFoundError\u001b[0m: No module named 'smb'"
     ]
    }
   ],
   "source": [
    "import socket\n",
    "from smb.SMBConnection import SMBConnection"
   ]
  },
  {
   "cell_type": "code",
   "execution_count": null,
   "metadata": {},
   "outputs": [],
   "source": [
    "import os\n",
    "import re\n",
    "import numpy as np\n",
    "from docx.shared import Mm\n",
    "from docxtpl import DocxTemplate, RichText,InlineImage\n",
    "import json\n",
    "from datetime import date\n",
    "import nmap\n",
    "import matplotlib.pyplot as plt\n",
    "from data_poc import poc_module\n"
   ]
  },
  {
   "cell_type": "code",
   "execution_count": null,
   "metadata": {},
   "outputs": [],
   "source": [
    "class report_app:\n",
    "    def __init__(self,name):\n",
    "        self.name = name\n",
    "        self.doc = DocxTemplate(os.path.join('data','smb_template','smb_template.docx'))\n",
    "        # self.ip_input = ip\n",
    "        self.paths()\n",
    "            \n",
    "    def gen_pic(self,data,smb_ips):\n",
    "        import matplotlib.pyplot as plt\n",
    "        #vuln data donut\n",
    "        names = ()\n",
    "        for vuln_data,vuln_value in data['vuln'].items():\n",
    "            names+=(vuln_data+'\\n'+str(vuln_value)+\" devices\",)\n",
    "        print(names)\n",
    "        size = [value for key,value in data['vuln'].items() ]\n",
    "        print(size,names)\n",
    "        color_codes = ['#FF2D01','#FAA40E','#FAE101','#2BE33F','#3CC4FA','#2A8CFA','#A11BE3',\"#E6018E\"]\n",
    "        my_circle=plt.Circle( (0,0), 0.7, color='white')\n",
    "        plt.pie(size, labels=names, colors=[color_codes[i] for i in range(len(size))])\n",
    "        p=plt.gcf()\n",
    "        p.gca().add_artist(my_circle)\n",
    "        plt.savefig('data/picture/pic3.jpg', format='jpg',dpi = 1000)\n",
    "        plt.close()\n",
    "\n",
    "        #account data pie\n",
    "        labels = 'Strong Account', 'Vulnerable Account'\n",
    "        sizes = [data['ips'],data['account']]\n",
    "        explode = (0.1, 0, )  # only \"explode\" the 2nd slice (i.e. 'Hogs')\n",
    "        fig1, ax1 = plt.subplots()\n",
    "        ax1.pie(sizes, explode=explode, labels=labels, autopct='%1.1f%%',\n",
    "                shadow=True, startangle=90)\n",
    "        ax1.axis('equal')  # Equal aspect ratio ensures that pie is drawn as a circle.\n",
    "        plt.savefig('data/picture/pic2.jpg', format='jpg',dpi = 300)\n",
    "        plt.close()\n",
    "\n",
    "        #share data pie\n",
    "        labels = 'Strong Share', 'Vulnerable Share'\n",
    "        sizes = [data['ips'],data['share_data']]\n",
    "        explode = (0.1, 0, )  # only \"explode\" the 2nd slice (i.e. 'Hogs')\n",
    "        fig1, ax1 = plt.subplots()\n",
    "        ax1.pie(sizes, explode=explode, labels=labels, autopct='%1.1f%%',\n",
    "                shadow=True, startangle=90)\n",
    "        ax1.axis('equal')  # Equal aspect ratio ensures that pie is drawn as a circle.\n",
    "        plt.savefig('data/picture/pic1.jpg', format='jpg',dpi = 300)\n",
    "        plt.close()\n",
    "\n",
    "\n",
    "    def report(self,vuln_count,share_data,computer_os,ips,account,general_data):\n",
    "        \n",
    "        for ip in share_data:\n",
    "            for paths in share_data[ip]:\n",
    "                for index,access in enumerate(share_data[ip][paths]):\n",
    "                    if  access == \"<none>\":\n",
    "                        share_data[ip][paths][index] = \"none\"\n",
    "        \n",
    "        self.gen_pic(general_data,ips)\n",
    "\n",
    "        data={\n",
    "           \"pic_account\":InlineImage(self.doc, 'data/picture/pic2.jpg', width=Mm(105),height=Mm(70)),\n",
    "            \"pic_share\":InlineImage(self.doc, 'data/picture/pic1.jpg', width=Mm(105),height=Mm(70)),\n",
    "            \"pic_vuln\":InlineImage(self.doc, 'data/picture/pic3.jpg', width=Mm(105),height=Mm(70)),\n",
    "            \"name\":self.name,\n",
    "            \"year\":date.today().year-1911,\n",
    "            \"month\":date.today().month,\n",
    "            'day': date.today().day,  \n",
    "            \"vuln_count\":vuln_count,\n",
    "            \"share_datas\":share_data,\n",
    "            \"computer_os\":computer_os,\n",
    "            \"ips\":ips,\n",
    "            \"accounts\":account,\n",
    "            \"general_data\":general_data,\n",
    "            # \"rdp\":self.ip,\n",
    "        }\n",
    "        print(data)\n",
    "        np.save('my_file.npy', data)     \n",
    "        # print(data[\"general_data\"])\n",
    "        # print(data[\"accounts\"])\n",
    "        # self.doc.render(data)\n",
    "        # self.doc.save(os.path.join(\"data\",\"report\",self.name+\"_smb_report.docx\"))\n",
    "\n",
    "    def data_count(self,datas):\n",
    "        ips = []\n",
    "        computer_os = []\n",
    "        account = {}\n",
    "        os_count = {\n",
    "            \"Windows 10\":0,\n",
    "            \"Windows 7\":0,\n",
    "            \"Windows 8\":0,\n",
    "            \"Windows XP\":0,\n",
    "            \"Windows Server 2016\":0,\n",
    "            \"Windows Server 2012 R2\":0,\n",
    "            \"Windows Server 2008 R2\":0,\n",
    "            \"Windows Server 2008\":0\n",
    "        }\n",
    "        general_data = {\n",
    "            \"account\":0,\n",
    "            \"share_data\":0,\n",
    "            \"vuln\":{},\n",
    "            \"ips\":0\n",
    "        }\n",
    "        vuln_count = {\n",
    "        }\n",
    "        cve_2020_1206 = {\n",
    "                \"number\":0,\n",
    "                \"ips\":[],\n",
    "                \"description\":\"該漏洞產生的原因是SMB的解壓縮函數Srv2DecompressData在處理發送給目標SMBv3服務器以偽造的息請求時，所產生問題，攻擊者可以讀取未初始化的kernel內存，還可以對壓縮函數進行修改。\",\n",
    "                \"solution\":'用管理員身份執行命令提示字元，必輸入以下命令，Set-ItemProperty -Path \"HKLM:\\SYSTEM\\CurrentControlSet\\Services\\LanmanServer\\Parameters\" DisableCompression -Type DWORD -Value 1 -Force,此外無需重啟電腦',\n",
    "                }\n",
    "        cve_2020_0796 = {\n",
    "                \"number\":0,\n",
    "                \"ips\":[],\n",
    "                \"description\":\"該漏洞遠讓遠端攻擊者可對目標系統之SMBv3服務發送特製請求或架設惡意的SMBv3伺服器誘騙受害者進行連線，導致遠端執行任意程式碼\",\n",
    "                \"solution\":\"目前微軟官方已針對此弱點釋出更新程式，請至下列連結進行更新：https://portal.msrc.microsoft.com/en-US/security-guidance/advisory/CVE-2020-0796\",\n",
    "                }\n",
    "        ms07_029 = {\n",
    "                \"number\":0,\n",
    "                \"ips\":{},\n",
    "                \"description\":\"ms07-029是一個遠程執行代碼漏洞，成功利用此漏洞的攻擊者可以遠程完全控制受影響的系統。攻擊者極有可能會可能查看、更改或刪除數據，或者創建擁有完全用戶權限的新帳戶。\",\n",
    "                \"solution\":\"可從 Microsoft Update 取得此更新。開啟自動更新時，會自動下載和安裝此更新。\",\n",
    "\n",
    "            }\n",
    "        ms08_067 = {\n",
    "            \"number\":0,\n",
    "            \"ips\":{},\n",
    "            \"description\":\"攻擊者弱成功利用此弱點，即可能造成使用者電腦受駭。其中TSPY_GIMMIV.A 惡意程式可能會下載WORM_GIMMIV.A 蠕蟲，並針對此弱點進行攻擊，而造成使用者系統受駭，導致用戶的帳號密碼、系統資訊等機敏性資料外洩，並可能造成受駭主機的防毒軟體無法執行、運作不正常\",\n",
    "            \"solution\":\"相關解決方法，請輸入以下網址，https://blog.xuite.net/antivirus/hisecure/23147429-Conficker+%E8%A0%95%E8%9F%B2%E5%88%A9%E7%94%A8%E5%BE%AE%E8%BB%9FMS08-067+%E5%BC%B1%E9%BB%9E%E9%80%B2%E8%A1%8C%E6%94%BB%E6%93%8A%E4%B8%A6%E9%80%8F%E9%81%8E%E7%B6%B2%E8%B7%AF%E9%80%B2%E8%A1%8C%E6%93%B4%E6%95%A3%EF%BC%81\",\n",
    "\n",
    "        }\n",
    "        ms10_054 = {\n",
    "            \"number\":0,\n",
    "            \"ips\":{},\n",
    "            \"description\":\"這個資訊安全更新可解決 Microsoft Windows 中數個未公開報告的弱點。 如果攻擊者蓄意製作 SMB 封包並將其傳送至受影響的系統，最嚴重的弱點可能會允許遠端執行程式碼。 最佳做法的防火牆和標準預設防火牆設定有助於防止網路受到來自企業外試圖利用這些弱點的攻擊。對於所有受支援版本的 Windows XP，此資訊安全更新的等級為「重大」。對於所有受支援版本的 Windows Server 2003、Windows Vista、Windows Server 2008、Windows 7 及 Windows Server 2008 R2，此資訊安全更新的等級為「重要」。這個資訊安全更新可修正 SMB 驗證 SMB 要求的方式，進而解決這些弱點。\",\n",
    "            \"solution\":\" 大部分客戶都已啟用自動更新，並且不必須採取任何行動，因為資訊安全更新將自動下載和安裝。 沒有啟用自動更新的客戶則必須檢查更新，並手動安裝更新。\",\n",
    "\n",
    "        }\n",
    "        ms10_061 = {\n",
    "            \"number\":0,\n",
    "            \"ips\":{},\n",
    "            \"description\":\"這個資訊安全更新可解決列印多工緩衝處理器服務中一項公開報告的資訊安全風險。 如果攻擊者將蓄意製作的列印要求傳送至具有曝露於 RPC 之列印多工緩衝處理器介面的受影響系統，此資訊安全風險可能會允許遠端執行程式碼。 依照預設，印表機目前不會於任何支援的 Windows 作業系統上進行共用。對於所有受支援版本的 Windows XP，此資訊安全更新的等級為「重大」。對於所有受支援版本的 Windows Server 2003、Windows Vista、Windows Server 2008、Windows 7 及 Windows Server 2008 R2，此資訊安全更新的等級為「重要」。此資訊安全更新可修正 Printer Spooler 服務驗證使用者權限的方式，藉以解決此資訊安全風險。\",\n",
    "            \"solution\":\"大部分客戶都已啟用自動更新，並且不必須採取任何行動，因為資訊安全更新將自動下載和安裝。 沒有啟用自動更新的客戶則必須檢查更新，並手動安裝更新。 如需有關自動更新中特定設定選項的資訊，請參閱 Microsoft 知識庫文件編號 294871,https://support.microsoft.com/en-us/help/294871/description-of-the-automatic-updates-feature-in-windows。\",  \n",
    "        }\n",
    "        ms17_010 = {\n",
    "            \"number\":0,\n",
    "            \"ips\":[],\n",
    "            \"description\":\"Microsoft Server Message Block 1.0 (SMBv1) 處理特定要求的方式中存在資訊洩漏弱點。攻擊者可能會蓄意製作封包，藉此導致伺服器資訊洩漏，以及執行任意程式。例如：WanaCrypt的勒索病毒，主要透過此弱點將受感染的電腦,大量檔案加密，並且要求高價比特幣贖金來贖回資料。\",\n",
    "            \"solution\":\"關閉SMB1服務，詳細操作資訊，請到以下網址，https://walker-a.com/archives/4261，Step2開始將指引您如何關閉SMB1\",\n",
    "        }\n",
    "        share_data = {}\n",
    "        for data in datas:\n",
    "            file = open(data)\n",
    "            data = json.load(file)\n",
    "            ips.append(data['ip'])\n",
    "            computer_os.append(data['os'])\n",
    "\n",
    "            if data[\"cve_2020_1206\"] == \"Vulnerable\":\n",
    "                cve_2020_1206[\"number\"] += 1\n",
    "                cve_2020_1206[\"ips\"].append(data['ip'])\n",
    "                vuln_count.update({\"cve_2020_1206\":cve_2020_1206})\n",
    "            if data[\"cve_2020_0796\"] == \"Vulnerable\":\n",
    "                cve_2020_0796[\"number\"] += 1\n",
    "                cve_2020_0796[\"ips\"].append(data['ip'])\n",
    "                vuln_count.update({\"cve_2020_0796\":cve_2020_0796})\n",
    "\n",
    "            if data[\"ms08-067\"] == \"Vulnerable\":\n",
    "                poc_result = poc_module(data['ip']).ms08067_poc()\n",
    "                if poc_result != \"NULL\":\n",
    "                    ms08_067[\"number\"] += 1\n",
    "                    image =InlineImage(self.doc, poc_result, width=Mm(105),height=Mm(70))\n",
    "                    ms08_067[\"ips\"].update({data['ip']:image})\n",
    "                    vuln_count.update({\"ms08_067\":ms08_067})\n",
    "            if data[\"ms17-010\"] == \"Vulnerable\":\n",
    "                poc_result = poc_module(data['ip']).ms17010_poc()\n",
    "                if poc_result != \"NULL\":\n",
    "                    ms17_010[\"number\"] += 1\n",
    "                    image =InlineImage(self.doc, poc_result, width=Mm(105),height=Mm(70))\n",
    "                    ms17_010[\"ips\"].append({data['ip']:image})\n",
    "                    vuln_count.update({\"ms17_010\":ms17_010})                                                \n",
    "            if data['password'] != \"NULL\" and data['account'] != \"NULL\":\n",
    "                if \"\\\\\\\\x00\" in data['workgroup']:\n",
    "                    data['workgroup'] = re.sub('\\\\\\\\x00','',data['workgroup'])\n",
    "                prove = poc_module(data['ip']).smb_account_poc(data['account'],data['password'],re.sub('\\\\x00','',data['workgroup']))\n",
    "                if prove != \"NULL\":\n",
    "                    general_data['account'] += 1\n",
    "                    account.update({data['ip']:{\"account\":data[\"account\"],\"password\":data[\"password\"],\"prove\":prove[::]}})\n",
    "            if data['share_data'] != \"NULL\":\n",
    "                general_data['share_data']+=1\n",
    "                share_data.update({data['ip']:data[\"share_data\"]})\n",
    "        for vuln in vuln_count:\n",
    "            temp_data = {\n",
    "                vuln:vuln_count[vuln]['number']\n",
    "            }\n",
    "            general_data['vuln'].update(temp_data)\n",
    "\n",
    "        general_data[\"ips\"]=len(ips)\n",
    "        self.report(vuln_count,share_data,computer_os,ips,account,general_data)\n",
    "    def paths(self):\n",
    "    \n",
    "        path = os.path.join('data','clean_data')\n",
    "        files = os.listdir(path)\n",
    "        files = [os.path.join(path,file) for file in files]\n",
    "        self.data_count(files)\n",
    "\n",
    "if __name__ == \"__main__\":\n",
    "    report_app(\"109年資通安全稽核作業\")"
   ]
  }
 ]
}